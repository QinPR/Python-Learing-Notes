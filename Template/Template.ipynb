{
 "cells": [
  {
   "cell_type": "markdown",
   "metadata": {},
   "source": [
    "# Title\n",
    "\n",
    "## Introduction\n",
    "\n",
    "You should introduce the main topics in this tutorial here, along with [links to Topic 1](#Topic-1) to the corresponding headings.\n",
    "\n",
    "## Topic-1\n",
    "\n",
    "### Background Knowledge\n",
    "\n",
    "Present the background knowledge here. You should use _italic_ for _proper nouns_ and **bold** for words to **emphasize**. You should use `code` or \n",
    "\n",
    "```\n",
    "codes\n",
    "```\n",
    "\n",
    "to include some code syntax demos.\n",
    "\n",
    "### Example-1\n",
    "\n",
    "First, give a brief introduction of the example, then show the code in the following code block. For all codes presented, you **MUST** follow _PEP-8_. You can enable _autopep8_ on jupyter's extensions."
   ]
  },
  {
   "cell_type": "code",
   "execution_count": 1,
   "metadata": {},
   "outputs": [
    {
     "name": "stdout",
     "output_type": "stream",
     "text": [
      "Hello world!\n"
     ]
    }
   ],
   "source": [
    "# Example-1\n",
    "print(\"Hello world!\")"
   ]
  },
  {
   "cell_type": "markdown",
   "metadata": {},
   "source": [
    "For all code blocks, you must also execute and show the results. Code blocks may or may not be correlated, but code blocks for different examples **MUST** be unrelated, i.e. you should copy the initialization part even if they share the same initialization. When user runs all code blocks **sequentially**, they **MUST** be able to reproduce the results.\n",
    "\n",
    "### Example-2\n",
    "\n",
    "Keep every example short and simple. If you have a long one, try to **split** it into several unit examples instead of a long one."
   ]
  },
  {
   "cell_type": "markdown",
   "metadata": {
    "solution2": "hidden",
    "solution2_first": true
   },
   "source": [
    "### Exercise\n",
    "\n",
    "You should use the extension _exercise2_ to produce an exercise. For each exercise, state the objective first and then show the sample codes. "
   ]
  },
  {
   "cell_type": "markdown",
   "metadata": {
    "solution2": "hidden"
   },
   "source": [
    "You may follow this animation to add exercise. \n",
    "\n",
    "![image.gif](./image.gif)\n",
    "\n",
    "For the solution, use a block to describe it in plain language first, then show the code. You are strongly encouraged to include [links](#background-knowledge) back to some knowledge."
   ]
  },
  {
   "cell_type": "code",
   "execution_count": 2,
   "metadata": {
    "solution2": "hidden"
   },
   "outputs": [
    {
     "name": "stdout",
     "output_type": "stream",
     "text": [
      "This is the sample solution\n"
     ]
    }
   ],
   "source": [
    "# Sample Solution Here\n",
    "print(\"This is the sample solution\")"
   ]
  },
  {
   "cell_type": "markdown",
   "metadata": {},
   "source": [
    "Use the following block to finish a notebook. You should **change** the _editor name_ with your own name (feel free to add your own links) and also **change** the last modified time."
   ]
  },
  {
   "cell_type": "markdown",
   "metadata": {},
   "source": [
    "- Author: [Guochao Xie](https://xieguochao.com/), _editor name_\n",
    "- Editor: _editor name_\n",
    "- Last modified: 2020-04-18"
   ]
  }
 ],
 "metadata": {
  "kernelspec": {
   "display_name": "Python 3",
   "language": "python",
   "name": "python3"
  },
  "language_info": {
   "codemirror_mode": {
    "name": "ipython",
    "version": 3
   },
   "file_extension": ".py",
   "mimetype": "text/x-python",
   "name": "python",
   "nbconvert_exporter": "python",
   "pygments_lexer": "ipython3",
   "version": "3.6.2"
  },
  "toc": {
   "base_numbering": 1,
   "nav_menu": {},
   "number_sections": true,
   "sideBar": false,
   "skip_h1_title": true,
   "title_cell": "Table of Contents",
   "title_sidebar": "Contents",
   "toc_cell": false,
   "toc_position": {
    "height": "310.611px",
    "left": "940.372px",
    "top": "134.474px",
    "width": "235.078px"
   },
   "toc_section_display": true,
   "toc_window_display": true
  },
  "varInspector": {
   "cols": {
    "lenName": 16,
    "lenType": 16,
    "lenVar": 40
   },
   "kernels_config": {
    "python": {
     "delete_cmd_postfix": "",
     "delete_cmd_prefix": "del ",
     "library": "var_list.py",
     "varRefreshCmd": "print(var_dic_list())"
    },
    "r": {
     "delete_cmd_postfix": ") ",
     "delete_cmd_prefix": "rm(",
     "library": "var_list.r",
     "varRefreshCmd": "cat(var_dic_list()) "
    }
   },
   "types_to_exclude": [
    "module",
    "function",
    "builtin_function_or_method",
    "instance",
    "_Feature"
   ],
   "window_display": false
  }
 },
 "nbformat": 4,
 "nbformat_minor": 2
}
